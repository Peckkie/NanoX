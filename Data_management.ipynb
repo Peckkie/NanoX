{
  "nbformat": 4,
  "nbformat_minor": 0,
  "metadata": {
    "colab": {
      "name": "Data_management.ipynb",
      "provenance": [],
      "collapsed_sections": [],
      "toc_visible": true,
      "authorship_tag": "ABX9TyPIXLBzmgjhbMt9TckKtcl0",
      "include_colab_link": true
    },
    "kernelspec": {
      "name": "python3",
      "display_name": "Python 3"
    },
    "language_info": {
      "name": "python"
    }
  },
  "cells": [
    {
      "cell_type": "markdown",
      "metadata": {
        "id": "view-in-github",
        "colab_type": "text"
      },
      "source": [
        "<a href=\"https://colab.research.google.com/github/Peckkie/NanoX/blob/main/Data_management.ipynb\" target=\"_parent\"><img src=\"https://colab.research.google.com/assets/colab-badge.svg\" alt=\"Open In Colab\"/></a>"
      ]
    },
    {
      "cell_type": "code",
      "metadata": {
        "colab": {
          "base_uri": "https://localhost:8080/"
        },
        "id": "cvQL0P_76D5v",
        "outputId": "8b9fd3f3-c4fe-4244-acaa-be7732a2ee27"
      },
      "source": [
        "# คำสั่ง  drive.mount : เป็นผูก google drive กับ colab\n",
        "from google.colab import drive\n",
        "drive.mount('/content/drive')"
      ],
      "execution_count": 1,
      "outputs": [
        {
          "output_type": "stream",
          "text": [
            "Mounted at /content/drive\n"
          ],
          "name": "stdout"
        }
      ]
    },
    {
      "cell_type": "code",
      "metadata": {
        "colab": {
          "base_uri": "https://localhost:8080/"
        },
        "id": "JLyFthG16GTi",
        "outputId": "91582984-9c36-4b89-ad9d-98c40ebb1057"
      },
      "source": [
        "import os\n",
        "os.chdir( '/content/drive/MyDrive/NanoX')\n",
        "!pwd "
      ],
      "execution_count": 2,
      "outputs": [
        {
          "output_type": "stream",
          "text": [
            "/content/drive/MyDrive/NanoX\n"
          ],
          "name": "stdout"
        }
      ]
    },
    {
      "cell_type": "code",
      "metadata": {
        "colab": {
          "base_uri": "https://localhost:8080/"
        },
        "id": "GGfHmRQq6Y1J",
        "outputId": "9ba76965-0939-4996-f4f2-0150a349c1ba"
      },
      "source": [
        "!pip install azure-storage-blob==2.1.0"
      ],
      "execution_count": 3,
      "outputs": [
        {
          "output_type": "stream",
          "text": [
            "Collecting azure-storage-blob==2.1.0\n",
            "  Downloading azure_storage_blob-2.1.0-py2.py3-none-any.whl (88 kB)\n",
            "\u001b[?25l\r\u001b[K     |███▊                            | 10 kB 20.9 MB/s eta 0:00:01\r\u001b[K     |███████▍                        | 20 kB 9.6 MB/s eta 0:00:01\r\u001b[K     |███████████▏                    | 30 kB 7.9 MB/s eta 0:00:01\r\u001b[K     |██████████████▉                 | 40 kB 7.3 MB/s eta 0:00:01\r\u001b[K     |██████████████████▋             | 51 kB 4.2 MB/s eta 0:00:01\r\u001b[K     |██████████████████████▎         | 61 kB 4.5 MB/s eta 0:00:01\r\u001b[K     |██████████████████████████      | 71 kB 4.5 MB/s eta 0:00:01\r\u001b[K     |█████████████████████████████▊  | 81 kB 5.0 MB/s eta 0:00:01\r\u001b[K     |████████████████████████████████| 88 kB 3.1 MB/s \n",
            "\u001b[?25hCollecting azure-storage-common~=2.1\n",
            "  Downloading azure_storage_common-2.1.0-py2.py3-none-any.whl (47 kB)\n",
            "\u001b[?25l\r\u001b[K     |██████▉                         | 10 kB 20.9 MB/s eta 0:00:01\r\u001b[K     |█████████████▊                  | 20 kB 27.6 MB/s eta 0:00:01\r\u001b[K     |████████████████████▋           | 30 kB 33.4 MB/s eta 0:00:01\r\u001b[K     |███████████████████████████▍    | 40 kB 35.6 MB/s eta 0:00:01\r\u001b[K     |████████████████████████████████| 47 kB 4.0 MB/s \n",
            "\u001b[?25hCollecting azure-common>=1.1.5\n",
            "  Downloading azure_common-1.1.27-py2.py3-none-any.whl (12 kB)\n",
            "Requirement already satisfied: python-dateutil in /usr/local/lib/python3.7/dist-packages (from azure-storage-common~=2.1->azure-storage-blob==2.1.0) (2.8.2)\n",
            "Collecting cryptography\n",
            "  Downloading cryptography-3.4.7-cp36-abi3-manylinux2014_x86_64.whl (3.2 MB)\n",
            "\u001b[K     |████████████████████████████████| 3.2 MB 27.9 MB/s \n",
            "\u001b[?25hRequirement already satisfied: requests in /usr/local/lib/python3.7/dist-packages (from azure-storage-common~=2.1->azure-storage-blob==2.1.0) (2.23.0)\n",
            "Requirement already satisfied: cffi>=1.12 in /usr/local/lib/python3.7/dist-packages (from cryptography->azure-storage-common~=2.1->azure-storage-blob==2.1.0) (1.14.6)\n",
            "Requirement already satisfied: pycparser in /usr/local/lib/python3.7/dist-packages (from cffi>=1.12->cryptography->azure-storage-common~=2.1->azure-storage-blob==2.1.0) (2.20)\n",
            "Requirement already satisfied: six>=1.5 in /usr/local/lib/python3.7/dist-packages (from python-dateutil->azure-storage-common~=2.1->azure-storage-blob==2.1.0) (1.15.0)\n",
            "Requirement already satisfied: idna<3,>=2.5 in /usr/local/lib/python3.7/dist-packages (from requests->azure-storage-common~=2.1->azure-storage-blob==2.1.0) (2.10)\n",
            "Requirement already satisfied: chardet<4,>=3.0.2 in /usr/local/lib/python3.7/dist-packages (from requests->azure-storage-common~=2.1->azure-storage-blob==2.1.0) (3.0.4)\n",
            "Requirement already satisfied: certifi>=2017.4.17 in /usr/local/lib/python3.7/dist-packages (from requests->azure-storage-common~=2.1->azure-storage-blob==2.1.0) (2021.5.30)\n",
            "Requirement already satisfied: urllib3!=1.25.0,!=1.25.1,<1.26,>=1.21.1 in /usr/local/lib/python3.7/dist-packages (from requests->azure-storage-common~=2.1->azure-storage-blob==2.1.0) (1.24.3)\n",
            "Installing collected packages: cryptography, azure-common, azure-storage-common, azure-storage-blob\n",
            "Successfully installed azure-common-1.1.27 azure-storage-blob-2.1.0 azure-storage-common-2.1.0 cryptography-3.4.7\n"
          ],
          "name": "stdout"
        }
      ]
    },
    {
      "cell_type": "code",
      "metadata": {
        "id": "c7L4ONMN6bCm"
      },
      "source": [
        "from azure.storage.blob import BlockBlobService\n",
        "import os"
      ],
      "execution_count": 4,
      "outputs": []
    },
    {
      "cell_type": "code",
      "metadata": {
        "id": "8AVM90RdNrh_"
      },
      "source": [
        "blob_service_client = BlockBlobService(account_name='dent01', account_key='CuShY0B4TZJ84TjzPpaHxyrHOpO73aGXeCpdVq7x26OjIlQ1HOz+3DVc9pDEj9BdcEL8odFuTRF0mOAE+aCgiw==')"
      ],
      "execution_count": 37,
      "outputs": []
    },
    {
      "cell_type": "code",
      "metadata": {
        "colab": {
          "base_uri": "https://localhost:8080/"
        },
        "id": "RgwWJQf2Nrlp",
        "outputId": "fb2460a4-2a24-4634-8061-7b952715a9bb"
      },
      "source": [
        "img_name = 'DA0638BF-B906-4461-8905-2446B3148611.png'#'6704FF24-1C79-4EF9-BDBD-25BE33015A3A.png'\n",
        "full_path_to_file2 = os.path.join(img_name)\n",
        "blob_service_client.get_blob_to_path('nano', full_path_to_file2, full_path_to_file2)"
      ],
      "execution_count": 38,
      "outputs": [
        {
          "output_type": "execute_result",
          "data": {
            "text/plain": [
              "<azure.storage.blob.models.Blob at 0x7f1c25da3050>"
            ]
          },
          "metadata": {},
          "execution_count": 38
        }
      ]
    },
    {
      "cell_type": "code",
      "metadata": {
        "id": "EDwbzqe86cvQ"
      },
      "source": [
        "import pandas as pd\n",
        "import numpy as np\n",
        "import os"
      ],
      "execution_count": 60,
      "outputs": []
    },
    {
      "cell_type": "code",
      "metadata": {
        "id": "CjlmOGW6Is_g"
      },
      "source": [
        "path = '/content/drive/MyDrive/NanoX/'"
      ],
      "execution_count": 61,
      "outputs": []
    },
    {
      "cell_type": "code",
      "metadata": {
        "colab": {
          "base_uri": "https://localhost:8080/",
          "height": 326
        },
        "id": "0PuCcHL-IkRJ",
        "outputId": "a3a8c0a8-3800-4955-80b3-9b5947749205"
      },
      "source": [
        "data_pd = pd.read_excel('/content/drive/MyDrive/NanoX/Smartphone based sensor_19 August 2021.xlsx',sheet_name=0)\n",
        "data_pd.head()"
      ],
      "execution_count": 62,
      "outputs": [
        {
          "output_type": "execute_result",
          "data": {
            "text/html": [
              "<div>\n",
              "<style scoped>\n",
              "    .dataframe tbody tr th:only-of-type {\n",
              "        vertical-align: middle;\n",
              "    }\n",
              "\n",
              "    .dataframe tbody tr th {\n",
              "        vertical-align: top;\n",
              "    }\n",
              "\n",
              "    .dataframe thead th {\n",
              "        text-align: right;\n",
              "    }\n",
              "</style>\n",
              "<table border=\"1\" class=\"dataframe\">\n",
              "  <thead>\n",
              "    <tr style=\"text-align: right;\">\n",
              "      <th></th>\n",
              "      <th>NO.</th>\n",
              "      <th>plate 1</th>\n",
              "      <th>Unnamed: 2</th>\n",
              "      <th>Unnamed: 3</th>\n",
              "      <th>Unnamed: 4</th>\n",
              "      <th>Unnamed: 5</th>\n",
              "      <th>Unnamed: 6</th>\n",
              "      <th>Unnamed: 7</th>\n",
              "      <th>Unnamed: 8</th>\n",
              "      <th>Unnamed: 9</th>\n",
              "      <th>Unnamed: 10</th>\n",
              "      <th>Unnamed: 11</th>\n",
              "      <th>Unnamed: 12</th>\n",
              "      <th>Unnamed: 13</th>\n",
              "    </tr>\n",
              "  </thead>\n",
              "  <tbody>\n",
              "    <tr>\n",
              "      <th>0</th>\n",
              "      <td>Name :</td>\n",
              "      <td>plate 1</td>\n",
              "      <td>NaN</td>\n",
              "      <td>NaN</td>\n",
              "      <td>NaN</td>\n",
              "      <td>NaN</td>\n",
              "      <td>NaN</td>\n",
              "      <td>Image file name</td>\n",
              "      <td>NaN</td>\n",
              "      <td>6704FF24-1C79-4EF9-BDBD-25BE33015A3A.png</td>\n",
              "      <td>NaN</td>\n",
              "      <td>NaN</td>\n",
              "      <td>NaN</td>\n",
              "      <td>NaN</td>\n",
              "    </tr>\n",
              "    <tr>\n",
              "      <th>1</th>\n",
              "      <td>Date :</td>\n",
              "      <td>2021-08-12 00:00:00</td>\n",
              "      <td>NaN</td>\n",
              "      <td>NaN</td>\n",
              "      <td>NaN</td>\n",
              "      <td>NaN</td>\n",
              "      <td>NaN</td>\n",
              "      <td>NaN</td>\n",
              "      <td>NaN</td>\n",
              "      <td>DA0638BF-B906-4461-8905-2446B3148611.png</td>\n",
              "      <td>NaN</td>\n",
              "      <td>NaN</td>\n",
              "      <td>NaN</td>\n",
              "      <td>NaN</td>\n",
              "    </tr>\n",
              "    <tr>\n",
              "      <th>2</th>\n",
              "      <td>NaN</td>\n",
              "      <td>Baseline</td>\n",
              "      <td>NaN</td>\n",
              "      <td>0</td>\n",
              "      <td>NaN</td>\n",
              "      <td>NaN</td>\n",
              "      <td>NaN</td>\n",
              "      <td>NaN</td>\n",
              "      <td>NaN</td>\n",
              "      <td>AD52FD2E-B239-474F-A673-F54C8D5CF5E3.png</td>\n",
              "      <td>NaN</td>\n",
              "      <td>NaN</td>\n",
              "      <td>NaN</td>\n",
              "      <td>NaN</td>\n",
              "    </tr>\n",
              "    <tr>\n",
              "      <th>3</th>\n",
              "      <td>NaN</td>\n",
              "      <td>Normal DNA</td>\n",
              "      <td>NaN</td>\n",
              "      <td>1</td>\n",
              "      <td>NaN</td>\n",
              "      <td>NaN</td>\n",
              "      <td>NaN</td>\n",
              "      <td>NaN</td>\n",
              "      <td>NaN</td>\n",
              "      <td>NaN</td>\n",
              "      <td>NaN</td>\n",
              "      <td>NaN</td>\n",
              "      <td>NaN</td>\n",
              "      <td>NaN</td>\n",
              "    </tr>\n",
              "    <tr>\n",
              "      <th>4</th>\n",
              "      <td>NaN</td>\n",
              "      <td>Cancer DNA</td>\n",
              "      <td>NaN</td>\n",
              "      <td>-1</td>\n",
              "      <td>NaN</td>\n",
              "      <td>NaN</td>\n",
              "      <td>NaN</td>\n",
              "      <td>NaN</td>\n",
              "      <td>NaN</td>\n",
              "      <td>NaN</td>\n",
              "      <td>NaN</td>\n",
              "      <td>NaN</td>\n",
              "      <td>NaN</td>\n",
              "      <td>NaN</td>\n",
              "    </tr>\n",
              "  </tbody>\n",
              "</table>\n",
              "</div>"
            ],
            "text/plain": [
              "       NO.              plate 1  ... Unnamed: 12 Unnamed: 13\n",
              "0  Name :               plate 1  ...         NaN         NaN\n",
              "1   Date :  2021-08-12 00:00:00  ...         NaN         NaN\n",
              "2      NaN             Baseline  ...         NaN         NaN\n",
              "3      NaN           Normal DNA  ...         NaN         NaN\n",
              "4      NaN           Cancer DNA  ...         NaN         NaN\n",
              "\n",
              "[5 rows x 14 columns]"
            ]
          },
          "metadata": {},
          "execution_count": 62
        }
      ]
    },
    {
      "cell_type": "code",
      "metadata": {
        "id": "V6BPbSQXIk07"
      },
      "source": [
        "label = data_pd.iloc[12,3:12:2] \n",
        "fname = data_pd.iloc[:3,9]"
      ],
      "execution_count": 19,
      "outputs": []
    },
    {
      "cell_type": "code",
      "metadata": {
        "colab": {
          "base_uri": "https://localhost:8080/"
        },
        "id": "3vbSmPdvLkB-",
        "outputId": "484fc4d3-9b77-4457-ef40-fe51bbff8c1d"
      },
      "source": [
        "label"
      ],
      "execution_count": 28,
      "outputs": [
        {
          "output_type": "execute_result",
          "data": {
            "text/plain": [
              "Unnamed: 3     -1\n",
              "Unnamed: 5      1\n",
              "Unnamed: 7     -1\n",
              "Unnamed: 9      1\n",
              "Unnamed: 11    -1\n",
              "Name: 12, dtype: object"
            ]
          },
          "metadata": {},
          "execution_count": 28
        }
      ]
    },
    {
      "cell_type": "code",
      "metadata": {
        "colab": {
          "base_uri": "https://localhost:8080/"
        },
        "id": "C89XR6KALkEu",
        "outputId": "0826b985-9b56-4b0c-ed54-b0c4208c1942"
      },
      "source": [
        "fname"
      ],
      "execution_count": 29,
      "outputs": [
        {
          "output_type": "execute_result",
          "data": {
            "text/plain": [
              "0    6704FF24-1C79-4EF9-BDBD-25BE33015A3A.png\n",
              "1    DA0638BF-B906-4461-8905-2446B3148611.png\n",
              "2    AD52FD2E-B239-474F-A673-F54C8D5CF5E3.png\n",
              "Name: Unnamed: 9, dtype: object"
            ]
          },
          "metadata": {},
          "execution_count": 29
        }
      ]
    },
    {
      "cell_type": "code",
      "metadata": {
        "id": "z94SC35wIufU"
      },
      "source": [
        "def get_colour_R(img_name):\n",
        "    full_path_to_file2 = os.path.join(img_name)\n",
        "    blob_service_client.get_blob_to_path('nano', full_path_to_file2, full_path_to_file2)\n",
        "    img = cv2.imread(img_name)\n",
        "    RGB_img = cv2.cvtColor(img, cv2.COLOR_BGR2RGB)\n",
        "    new_RGB = RGB_img[500:2500,500:3500,:]\n",
        "    st_row = [190,400,620,880,1090,1300,1500,1730]\n",
        "    st_col = [250,490,710,940,1150,1400,1580,1850,2080,2280,2520]\n",
        "    rad = 40\n",
        "    colours = np.zeros((8,11))\n",
        "    for row in range(8):\n",
        "        for col in range(11):\n",
        "\n",
        "            ##split channel & flatten\n",
        "            R = new_RGB[st_row[row]:st_row[row]+rad,st_col[col]:st_col[col]+rad,0].flatten()\n",
        "            G = new_RGB[st_row[row]:st_row[row]+rad,st_col[col]:st_col[col]+rad,1].flatten()\n",
        "            B = new_RGB[st_row[row]:st_row[row]+rad,st_col[col]:st_col[col]+rad,2].flatten()\n",
        "            ##find argsort by colour R\n",
        "            ind = np.argsort(R)\n",
        "            ##apply to R\n",
        "            R_sorted = np.take_along_axis(R, ind,0)\n",
        "            ##cut middle part (remove outliers)\n",
        "            R_cut = R_sorted[600:-600]\n",
        "            ##find median of R\n",
        "            colours[row,col] = np.median(R_cut)\n",
        "    plt.imshow(colours)\n",
        "\n",
        "    X = np.zeros((5,24))\n",
        "    #create feature vector\n",
        "    for i in range(5):\n",
        "        X[i,:] = colours[:,2*i:2*i+3].flatten()\n",
        "    return colours,X"
      ],
      "execution_count": 66,
      "outputs": []
    },
    {
      "cell_type": "code",
      "metadata": {
        "colab": {
          "base_uri": "https://localhost:8080/",
          "height": 286
        },
        "id": "_XByuzcqOD-2",
        "outputId": "e4dea01d-7b3a-4dc4-ce73-9dc3f7c9caf7"
      },
      "source": [
        "img_name = 'DA0638BF-B906-4461-8905-2446B3148611.png'#'6704FF24-1C79-4EF9-BDBD-25BE33015A3A.png'\n",
        "full_path_to_file2 = os.path.join(img_name)\n",
        "blob_service_client.get_blob_to_path('nano', full_path_to_file2, full_path_to_file2)\n",
        "img = cv2.imread(img_name)\n",
        "RGB_img = cv2.cvtColor(img, cv2.COLOR_BGR2RGB)\n",
        "new_RGB = RGB_img[500:2500,500:3500,:]\n",
        "plt.imshow(new_RGB)\n",
        "plt.imshow(RGB_img)"
      ],
      "execution_count": 71,
      "outputs": [
        {
          "output_type": "execute_result",
          "data": {
            "text/plain": [
              "<matplotlib.image.AxesImage at 0x7f1c1334e950>"
            ]
          },
          "metadata": {},
          "execution_count": 71
        },
        {
          "output_type": "display_data",
          "data": {
            "image/png": "[encoded data removed]",
            "text/plain": [
              "<Figure size 432x288 with 1 Axes>"
            ]
          },
          "metadata": {
            "needs_background": "light"
          }
        }
      ]
    },
    {
      "cell_type": "code",
      "metadata": {
        "id": "xAyHDRM2MjJ-"
      },
      "source": [
        "path = '/content/drive/MyDrive/NanoX/'"
      ],
      "execution_count": 67,
      "outputs": []
    },
    {
      "cell_type": "code",
      "metadata": {
        "id": "btClBS4OMfij"
      },
      "source": [
        "def get_X_Y(sheet,fcol=9,frows=(0,2)):\n",
        "    data_pd = pd.read_excel('/content/drive/MyDrive/NanoX/Smartphone based sensor_19 August 2021.xlsx',sheet_name=sheet)\n",
        "    fnames = list(data_pd.iloc[frows[0]:frows[1]+1,fcol])\n",
        "    Y = list(data_pd.iloc[12,3:12:2])\n",
        "    Y_list = list()\n",
        "    X_list = list()\n",
        "    for fname in fnames:\n",
        "        print(fname)\n",
        "        try:\n",
        "            if fname[-4:] == '.png':\n",
        "                out,X = get_colour_R(fname)\n",
        "            else:\n",
        "                out,X = get_colour_R(fname+'.png')\n",
        "            X_list.append(X)\n",
        "            Y_list += Y\n",
        "        except:\n",
        "            print(f'{fname} not found')\n",
        "    return np.concatenate(X_list,axis=0),Y_list"
      ],
      "execution_count": 70,
      "outputs": []
    },
    {
      "cell_type": "code",
      "metadata": {
        "id": "r4FqH81uX4Y5"
      },
      "source": [
        "def get_X_Y_(sheet,fcol=9,frows=(0,3)):\n",
        "    data_pd = pd.read_excel('/content/drive/MyDrive/NanoX/Smartphone based sensor_19 August 2021.xlsx',sheet_name=sheet)\n",
        "    fnames = list(data_pd.iloc[frows[0]:frows[1]+1,fcol])\n",
        "    Y = list(data_pd.iloc[12,3:12:2])\n",
        "    Y_list = list()\n",
        "    X_list = list()\n",
        "    for fname in fnames:\n",
        "        print(fname)\n",
        "        try:\n",
        "            if fname[-4:] == '.png':\n",
        "                out,X = get_colour_R(fname)\n",
        "            else:\n",
        "                out,X = get_colour_R(fname+'.png')\n",
        "            X_list.append(X)\n",
        "            Y_list += Y\n",
        "        except:\n",
        "            print(f'{fname} not found')\n",
        "    return np.concatenate(X_list,axis=0),Y_list"
      ],
      "execution_count": 108,
      "outputs": []
    },
    {
      "cell_type": "code",
      "metadata": {
        "colab": {
          "base_uri": "https://localhost:8080/",
          "height": 457
        },
        "id": "9-YdFdVKRlZb",
        "outputId": "4dfa25c4-35b2-49f9-d92a-7cac13208809"
      },
      "source": [
        "Table=[]\n",
        "for i in range(2):\n",
        "    print(i)\n",
        "    X1,Y1 = get_X_Y(i)\n",
        "    for k in range(len(X1)):\n",
        "        Table.append({'Sheet':i, 'X':X1[k], 'Y':Y1[k]})"
      ],
      "execution_count": 113,
      "outputs": [
        {
          "output_type": "stream",
          "text": [
            "0\n",
            "6704FF24-1C79-4EF9-BDBD-25BE33015A3A.png\n",
            "DA0638BF-B906-4461-8905-2446B3148611.png\n",
            "AD52FD2E-B239-474F-A673-F54C8D5CF5E3.png\n"
          ],
          "name": "stdout"
        },
        {
          "output_type": "stream",
          "text": [
            "Client-Request-ID=0c36ed7e-0185-11ec-a03c-0242ac1c0002 Retry policy did not allow for a retry: Server-Timestamp=Fri, 20 Aug 2021 07:05:48 GMT, Server-Request-ID=538cea9a-701e-001b-4391-95ef00000000, HTTP status code=404, Exception=The specified blob does not exist. ErrorCode: BlobNotFound<?xml version=\"1.0\" encoding=\"utf-8\"?><Error><Code>BlobNotFound</Code><Message>The specified blob does not exist.RequestId:538cea9a-701e-001b-4391-95ef00000000Time:2021-08-20T07:05:48.9128912Z</Message></Error>.\n"
          ],
          "name": "stderr"
        },
        {
          "output_type": "stream",
          "text": [
            "1\n",
            "54A75DB0-BB4F-45F9-9667-5494F-83997D1.png\n",
            "54A75DB0-BB4F-45F9-9667-5494F-83997D1.png not found\n",
            "5E136F1E-E14C-416B-827C-9344B1FCDFDD.png\n",
            "BB65C105-B77B-4C16-A197-B173830980CA.png\n"
          ],
          "name": "stdout"
        },
        {
          "output_type": "display_data",
          "data": {
            "image/png": "[encoded data removed]",
            "text/plain": [
              "<Figure size 432x288 with 1 Axes>"
            ]
          },
          "metadata": {
            "needs_background": "light"
          }
        }
      ]
    },
    {
      "cell_type": "code",
      "metadata": {
        "colab": {
          "base_uri": "https://localhost:8080/",
          "height": 1000
        },
        "id": "hxTxGg_cW_Dh",
        "outputId": "b1c0bb74-609f-4aad-965b-4a6886148544"
      },
      "source": [
        "for i in range(2,15):\n",
        "    print(i)\n",
        "    X1,Y1 = get_X_Y_(i)\n",
        "    for k in range(len(X1)):\n",
        "        Table.append({'Sheet':i, 'X':X1[k], 'Y':Y1[k]})"
      ],
      "execution_count": 114,
      "outputs": [
        {
          "output_type": "stream",
          "text": [
            "2\n",
            "5A57F9B7-DC5F-4FB7-9CF3-5306913042DB.png\n",
            "E2487A69-C406-445B-922F-7450A6EA478B.png\n",
            "A049F8AB-10C2-4603-A963-9D31491FC81B.png\n",
            "EBD557FF-33BF-4A04-8942-DB671A08E1F5.png\n",
            "3\n",
            "849ECEE1-8300-491E-BFAF-2068AFAECC6F\n",
            "809BA82F-4F53-4F09-A89C-6D7A64129B15\n",
            "2071E1C6-3A18-4CFF-B44D-72EF3A9FDDF3\n"
          ],
          "name": "stdout"
        },
        {
          "output_type": "stream",
          "text": [
            "Client-Request-ID=0fab711e-0185-11ec-a03c-0242ac1c0002 Retry policy did not allow for a retry: Server-Timestamp=Fri, 20 Aug 2021 07:05:54 GMT, Server-Request-ID=538cf739-701e-001b-2691-95ef00000000, HTTP status code=404, Exception=The specified blob does not exist. ErrorCode: BlobNotFound<?xml version=\"1.0\" encoding=\"utf-8\"?><Error><Code>BlobNotFound</Code><Message>The specified blob does not exist.RequestId:538cf739-701e-001b-2691-95ef00000000Time:2021-08-20T07:05:54.7270337Z</Message></Error>.\n"
          ],
          "name": "stderr"
        },
        {
          "output_type": "stream",
          "text": [
            "5794A292-941A-4D50-AC34-79D06BE19E1\n",
            "5794A292-941A-4D50-AC34-79D06BE19E1 not found\n",
            "4\n",
            "3680E0CE-8AC9-406F-AD62-8069EEDEC3EC\n",
            "2FEE8A2B-5C12-4E86-86E4-882DCE6C3DC3\n",
            "D6E53277-2C6E-421D-B9D5-2127108FB58D\n"
          ],
          "name": "stdout"
        },
        {
          "output_type": "stream",
          "text": [
            "Client-Request-ID=10b6b65e-0185-11ec-a03c-0242ac1c0002 Retry policy did not allow for a retry: Server-Timestamp=Fri, 20 Aug 2021 07:05:56 GMT, Server-Request-ID=538cfba6-701e-001b-3f91-95ef00000000, HTTP status code=404, Exception=The specified blob does not exist. ErrorCode: BlobNotFound<?xml version=\"1.0\" encoding=\"utf-8\"?><Error><Code>BlobNotFound</Code><Message>The specified blob does not exist.RequestId:538cfba6-701e-001b-3f91-95ef00000000Time:2021-08-20T07:05:56.4602736Z</Message></Error>.\n",
            "Client-Request-ID=10c6979a-0185-11ec-a03c-0242ac1c0002 Retry policy did not allow for a retry: Server-Timestamp=Fri, 20 Aug 2021 07:05:56 GMT, Server-Request-ID=538cfbe3-701e-001b-7991-95ef00000000, HTTP status code=404, Exception=The specified blob does not exist. ErrorCode: BlobNotFound<?xml version=\"1.0\" encoding=\"utf-8\"?><Error><Code>BlobNotFound</Code><Message>The specified blob does not exist.RequestId:538cfbe3-701e-001b-7991-95ef00000000Time:2021-08-20T07:05:56.5743538Z</Message></Error>.\n"
          ],
          "name": "stderr"
        },
        {
          "output_type": "stream",
          "text": [
            "DF9E2333-6456-4889-8E7C-F339B9E5746\n",
            "DF9E2333-6456-4889-8E7C-F339B9E5746 not found\n",
            "5\n",
            "E7F14D2A-7C11-43D9-AEOB-OEA7E7DE820D\n",
            "E7F14D2A-7C11-43D9-AEOB-OEA7E7DE820D not found\n",
            "B96D2931-24B6-4017-BBE5-40BF0973F6C7\n",
            "6A6DC13C-4EBB-406E-AA33-A731AAB598EA\n",
            "59D931C2-E09F-4B33-A579-715D323B1374\n",
            "6\n",
            "9807749F-2354-4156-A37B-8A55437D16B3\n",
            "03E32800-5001-4B35-9538-3A18156D0938\n",
            "F288DD01-8CBD-4167-A3EB-310194156A9A\n",
            "978E3863-63D8-4861-82CD-569B59DCE9C2\n",
            "7\n",
            "7B7A43B1-FF91-4C56-8EB5-9CAE6AD3B47D\n",
            "44DD2466-82A6-4839-993A-0C754B50C6DD\n"
          ],
          "name": "stdout"
        },
        {
          "output_type": "stream",
          "text": [
            "Client-Request-ID=15023756-0185-11ec-a03c-0242ac1c0002 Retry policy did not allow for a retry: Server-Timestamp=Fri, 20 Aug 2021 07:06:03 GMT, Server-Request-ID=538d0aea-701e-001b-5991-95ef00000000, HTTP status code=404, Exception=The specified blob does not exist. ErrorCode: BlobNotFound<?xml version=\"1.0\" encoding=\"utf-8\"?><Error><Code>BlobNotFound</Code><Message>The specified blob does not exist.RequestId:538d0aea-701e-001b-5991-95ef00000000Time:2021-08-20T07:06:03.6674060Z</Message></Error>.\n"
          ],
          "name": "stderr"
        },
        {
          "output_type": "stream",
          "text": [
            "139C5E96-79E1-45A6-BEE9-1808F6C96E04\n",
            "139C5E96-79E1-45A6-BEE9-1808F6C96E04 not found\n",
            "3B00624D-A893-4D44-B69E-6704B79422B1\n"
          ],
          "name": "stdout"
        },
        {
          "output_type": "stream",
          "text": [
            "Client-Request-ID=157dbe8a-0185-11ec-a03c-0242ac1c0002 Retry policy did not allow for a retry: Server-Timestamp=Fri, 20 Aug 2021 07:06:04 GMT, Server-Request-ID=538d0c76-701e-001b-3591-95ef00000000, HTTP status code=404, Exception=The specified blob does not exist. ErrorCode: BlobNotFound<?xml version=\"1.0\" encoding=\"utf-8\"?><Error><Code>BlobNotFound</Code><Message>The specified blob does not exist.RequestId:538d0c76-701e-001b-3591-95ef00000000Time:2021-08-20T07:06:04.4839909Z</Message></Error>.\n"
          ],
          "name": "stderr"
        },
        {
          "output_type": "stream",
          "text": [
            "8\n",
            "9CE3E328-C94B-4A59-BDB1-208CC62AAEE4\n",
            "9CE3E328-C94B-4A59-BDB1-208CC62AAEE4 not found\n",
            "D11E850A-2FD0-47A5-A3B2-DC82522A7515\n",
            "2019E45A-B173-4609-BDA6-2669EED7D100\n",
            "58BE00ED-B1BE-46C9-B608-847F0788B4AF\n",
            "9\n",
            "A9F1AC29-D498-4EC5-9E5E-05296369DD66\n",
            "B30B9F44-FF42-432E-ABC3-BB8600A212F8\n",
            "A9A1A828-E34E-464B-AC5B-551B9CF7EABE\n"
          ],
          "name": "stdout"
        },
        {
          "output_type": "stream",
          "text": [
            "Client-Request-ID=17ce664e-0185-11ec-a03c-0242ac1c0002 Retry policy did not allow for a retry: Server-Timestamp=Fri, 20 Aug 2021 07:06:08 GMT, Server-Request-ID=538d166e-701e-001b-0391-95ef00000000, HTTP status code=404, Exception=The specified blob does not exist. ErrorCode: BlobNotFound<?xml version=\"1.0\" encoding=\"utf-8\"?><Error><Code>BlobNotFound</Code><Message>The specified blob does not exist.RequestId:538d166e-701e-001b-0391-95ef00000000Time:2021-08-20T07:06:08.3617518Z</Message></Error>.\n"
          ],
          "name": "stderr"
        },
        {
          "output_type": "stream",
          "text": [
            "FFE0CCA21-F61B-48A3-97E6-4882F90D4020\n",
            "FFE0CCA21-F61B-48A3-97E6-4882F90D4020 not found\n",
            "10\n",
            "26EA8058-8462-43AD-A8A3-A6966C6B6D8F\n",
            "76E0CA07-2C87-48E6-891D-166643C8F35E\n",
            "A0551BED-BC3F-4C81-8A86-D49CC1DC88E4\n",
            "C1A399A0-6280-4309-BC68-B63F9103359A\n",
            "11\n",
            "1626B915-E8D6-4E20-80AA-05B28D3C34F2\n"
          ],
          "name": "stdout"
        },
        {
          "output_type": "stream",
          "text": [
            "Client-Request-ID=1ba37264-0185-11ec-a03c-0242ac1c0002 Retry policy did not allow for a retry: Server-Timestamp=Fri, 20 Aug 2021 07:06:14 GMT, Server-Request-ID=538d262d-701e-001b-2e91-95ef00000000, HTTP status code=404, Exception=The specified blob does not exist. ErrorCode: BlobNotFound<?xml version=\"1.0\" encoding=\"utf-8\"?><Error><Code>BlobNotFound</Code><Message>The specified blob does not exist.RequestId:538d262d-701e-001b-2e91-95ef00000000Time:2021-08-20T07:06:14.7993424Z</Message></Error>.\n"
          ],
          "name": "stderr"
        },
        {
          "output_type": "stream",
          "text": [
            "401CB17D-CFE2-49E1-E95D-D8385C1E6ACD\n",
            "401CB17D-CFE2-49E1-E95D-D8385C1E6ACD not found\n",
            "32D4D5F0-4617-4589-A4E7-E5067C0166F3\n",
            "F1902C0C-349D-425F-BD7C-E05B6FE2E940\n",
            "12\n",
            "66133A70-8CB4-4DD0-9196-8100E83DD9FF\n"
          ],
          "name": "stdout"
        },
        {
          "output_type": "stream",
          "text": [
            "Client-Request-ID=1d3872c8-0185-11ec-a03c-0242ac1c0002 Retry policy did not allow for a retry: Server-Timestamp=Fri, 20 Aug 2021 07:06:17 GMT, Server-Request-ID=538d2c42-701e-001b-5a91-95ef00000000, HTTP status code=404, Exception=The specified blob does not exist. ErrorCode: BlobNotFound<?xml version=\"1.0\" encoding=\"utf-8\"?><Error><Code>BlobNotFound</Code><Message>The specified blob does not exist.RequestId:538d2c42-701e-001b-5a91-95ef00000000Time:2021-08-20T07:06:17.4472275Z</Message></Error>.\n"
          ],
          "name": "stderr"
        },
        {
          "output_type": "stream",
          "text": [
            "3DB12E17-90224F59-83C5-490E0CC36FEB\n",
            "3DB12E17-90224F59-83C5-490E0CC36FEB not found\n",
            "4FD5AECC-EC9D-4F61-BC48-5CBA2CC3A101\n",
            "7181F92B-76E5-49F9-B72F-887BCA907E46\n",
            "13\n",
            "16DCFEF3-9C62-478B-9D3A-FD5DCDA86316\n",
            "FA187368-DB14-47B1-BB37-77E9BCA3257A\n",
            "F05DB0C7-BE2D-493A-85BC-7FC440FE8514\n"
          ],
          "name": "stdout"
        },
        {
          "output_type": "stream",
          "text": [
            "Client-Request-ID=1f65a656-0185-11ec-a03c-0242ac1c0002 Retry policy did not allow for a retry: Server-Timestamp=Fri, 20 Aug 2021 07:06:20 GMT, Server-Request-ID=538d3502-701e-001b-0191-95ef00000000, HTTP status code=404, Exception=The specified blob does not exist. ErrorCode: BlobNotFound<?xml version=\"1.0\" encoding=\"utf-8\"?><Error><Code>BlobNotFound</Code><Message>The specified blob does not exist.RequestId:538d3502-701e-001b-0191-95ef00000000Time:2021-08-20T07:06:21.0958293Z</Message></Error>.\n"
          ],
          "name": "stderr"
        },
        {
          "output_type": "stream",
          "text": [
            "7063C32E-F085-4A78-873D-E30EA30C3414\n",
            "7063C32E-F085-4A78-873D-E30EA30C3414 not found\n",
            "14\n",
            "DF550EE5-ACF6-4423-97EB-E0CB396A2F2F\n",
            "FAD171C0-F011-49F3-9783-B81C6EFFDC1D\n",
            "EC2F88EB-BF41-491B-99FC-AA44E591EEFE\n",
            "50368D6F-9BEC-443E-877E-64D5CB097E78\n"
          ],
          "name": "stdout"
        },
        {
          "output_type": "display_data",
          "data": {
            "image/png": "[encoded data removed]",
            "text/plain": [
              "<Figure size 432x288 with 1 Axes>"
            ]
          },
          "metadata": {
            "needs_background": "light"
          }
        }
      ]
    },
    {
      "cell_type": "code",
      "metadata": {
        "id": "JrbbPheIYINh"
      },
      "source": [
        "# X1,Y1 = get_X_Y_(14)"
      ],
      "execution_count": 123,
      "outputs": []
    },
    {
      "cell_type": "code",
      "metadata": {
        "id": "GcR4lxgrS1op"
      },
      "source": [
        "Abndf = pd.DataFrame(Table)\n",
        "Abndf_ = Abndf[Abndf['Y'] != -5]"
      ],
      "execution_count": 116,
      "outputs": []
    },
    {
      "cell_type": "code",
      "metadata": {
        "colab": {
          "base_uri": "https://localhost:8080/"
        },
        "id": "JvyhviiIO1Qx",
        "outputId": "b3262006-60cd-4891-b609-78c3b62fe6de"
      },
      "source": [
        "print('Data all: ', len(Abndf))\n",
        "print('Data After remove \"-5\": ', len(Abndf_))"
      ],
      "execution_count": 117,
      "outputs": [
        {
          "output_type": "stream",
          "text": [
            "Data all:  240\n",
            "Data After remove \"-5\":  135\n"
          ],
          "name": "stdout"
        }
      ]
    },
    {
      "cell_type": "code",
      "metadata": {
        "id": "NoJ9xVvFcpb8"
      },
      "source": [
        "x = Abndf_['X'].tolist()\n",
        "y = Abndf_['Y'].tolist()\n",
        "sheet = Abndf_['Sheet'].tolist()"
      ],
      "execution_count": 145,
      "outputs": []
    },
    {
      "cell_type": "code",
      "metadata": {
        "id": "JULnDLA-dKDe"
      },
      "source": [
        "import pandas as pd \n",
        "# List1 \n",
        "df = pd.DataFrame(x, dtype = float) \n",
        "df['Sheet'] =sheet\n",
        "df['Y'] =y"
      ],
      "execution_count": 146,
      "outputs": []
    },
    {
      "cell_type": "code",
      "metadata": {
        "colab": {
          "base_uri": "https://localhost:8080/",
          "height": 205
        },
        "id": "z3WWP2A8eSio",
        "outputId": "f65d2373-352c-4935-a2a9-fc81c295bc39"
      },
      "source": [
        "df.head()"
      ],
      "execution_count": 147,
      "outputs": [
        {
          "output_type": "execute_result",
          "data": {
            "text/html": [
              "<div>\n",
              "<style scoped>\n",
              "    .dataframe tbody tr th:only-of-type {\n",
              "        vertical-align: middle;\n",
              "    }\n",
              "\n",
              "    .dataframe tbody tr th {\n",
              "        vertical-align: top;\n",
              "    }\n",
              "\n",
              "    .dataframe thead th {\n",
              "        text-align: right;\n",
              "    }\n",
              "</style>\n",
              "<table border=\"1\" class=\"dataframe\">\n",
              "  <thead>\n",
              "    <tr style=\"text-align: right;\">\n",
              "      <th></th>\n",
              "      <th>0</th>\n",
              "      <th>1</th>\n",
              "      <th>2</th>\n",
              "      <th>3</th>\n",
              "      <th>4</th>\n",
              "      <th>5</th>\n",
              "      <th>6</th>\n",
              "      <th>7</th>\n",
              "      <th>8</th>\n",
              "      <th>9</th>\n",
              "      <th>10</th>\n",
              "      <th>11</th>\n",
              "      <th>12</th>\n",
              "      <th>13</th>\n",
              "      <th>14</th>\n",
              "      <th>15</th>\n",
              "      <th>16</th>\n",
              "      <th>17</th>\n",
              "      <th>18</th>\n",
              "      <th>19</th>\n",
              "      <th>20</th>\n",
              "      <th>21</th>\n",
              "      <th>22</th>\n",
              "      <th>23</th>\n",
              "      <th>Sheet</th>\n",
              "      <th>Y</th>\n",
              "    </tr>\n",
              "  </thead>\n",
              "  <tbody>\n",
              "    <tr>\n",
              "      <th>0</th>\n",
              "      <td>113.0</td>\n",
              "      <td>118.0</td>\n",
              "      <td>118.0</td>\n",
              "      <td>107.0</td>\n",
              "      <td>105.0</td>\n",
              "      <td>109.0</td>\n",
              "      <td>92.0</td>\n",
              "      <td>95.0</td>\n",
              "      <td>104.0</td>\n",
              "      <td>96.0</td>\n",
              "      <td>90.0</td>\n",
              "      <td>98.0</td>\n",
              "      <td>92.0</td>\n",
              "      <td>90.5</td>\n",
              "      <td>95.0</td>\n",
              "      <td>94.0</td>\n",
              "      <td>89.0</td>\n",
              "      <td>99.0</td>\n",
              "      <td>99.0</td>\n",
              "      <td>92.0</td>\n",
              "      <td>97.0</td>\n",
              "      <td>103.0</td>\n",
              "      <td>100.0</td>\n",
              "      <td>95.0</td>\n",
              "      <td>0</td>\n",
              "      <td>-1</td>\n",
              "    </tr>\n",
              "    <tr>\n",
              "      <th>1</th>\n",
              "      <td>118.0</td>\n",
              "      <td>109.0</td>\n",
              "      <td>103.0</td>\n",
              "      <td>109.0</td>\n",
              "      <td>80.0</td>\n",
              "      <td>89.0</td>\n",
              "      <td>104.0</td>\n",
              "      <td>76.0</td>\n",
              "      <td>90.0</td>\n",
              "      <td>98.0</td>\n",
              "      <td>75.0</td>\n",
              "      <td>85.0</td>\n",
              "      <td>95.0</td>\n",
              "      <td>79.0</td>\n",
              "      <td>82.0</td>\n",
              "      <td>99.0</td>\n",
              "      <td>75.0</td>\n",
              "      <td>83.0</td>\n",
              "      <td>97.0</td>\n",
              "      <td>78.0</td>\n",
              "      <td>89.0</td>\n",
              "      <td>95.0</td>\n",
              "      <td>102.0</td>\n",
              "      <td>102.0</td>\n",
              "      <td>0</td>\n",
              "      <td>1</td>\n",
              "    </tr>\n",
              "    <tr>\n",
              "      <th>2</th>\n",
              "      <td>103.0</td>\n",
              "      <td>106.0</td>\n",
              "      <td>98.0</td>\n",
              "      <td>89.0</td>\n",
              "      <td>76.0</td>\n",
              "      <td>90.0</td>\n",
              "      <td>90.0</td>\n",
              "      <td>81.0</td>\n",
              "      <td>86.0</td>\n",
              "      <td>85.0</td>\n",
              "      <td>72.0</td>\n",
              "      <td>80.0</td>\n",
              "      <td>82.0</td>\n",
              "      <td>71.0</td>\n",
              "      <td>81.0</td>\n",
              "      <td>83.0</td>\n",
              "      <td>67.0</td>\n",
              "      <td>78.0</td>\n",
              "      <td>89.0</td>\n",
              "      <td>70.0</td>\n",
              "      <td>85.0</td>\n",
              "      <td>102.0</td>\n",
              "      <td>100.0</td>\n",
              "      <td>99.0</td>\n",
              "      <td>0</td>\n",
              "      <td>-1</td>\n",
              "    </tr>\n",
              "    <tr>\n",
              "      <th>3</th>\n",
              "      <td>98.0</td>\n",
              "      <td>110.0</td>\n",
              "      <td>101.0</td>\n",
              "      <td>90.0</td>\n",
              "      <td>88.0</td>\n",
              "      <td>94.0</td>\n",
              "      <td>86.0</td>\n",
              "      <td>84.0</td>\n",
              "      <td>96.0</td>\n",
              "      <td>80.0</td>\n",
              "      <td>69.0</td>\n",
              "      <td>93.0</td>\n",
              "      <td>81.0</td>\n",
              "      <td>68.0</td>\n",
              "      <td>87.0</td>\n",
              "      <td>78.0</td>\n",
              "      <td>70.0</td>\n",
              "      <td>87.0</td>\n",
              "      <td>85.0</td>\n",
              "      <td>70.0</td>\n",
              "      <td>88.0</td>\n",
              "      <td>99.0</td>\n",
              "      <td>96.0</td>\n",
              "      <td>91.0</td>\n",
              "      <td>0</td>\n",
              "      <td>1</td>\n",
              "    </tr>\n",
              "    <tr>\n",
              "      <th>4</th>\n",
              "      <td>101.0</td>\n",
              "      <td>112.0</td>\n",
              "      <td>119.0</td>\n",
              "      <td>94.0</td>\n",
              "      <td>87.0</td>\n",
              "      <td>104.0</td>\n",
              "      <td>96.0</td>\n",
              "      <td>87.0</td>\n",
              "      <td>109.0</td>\n",
              "      <td>93.0</td>\n",
              "      <td>75.0</td>\n",
              "      <td>108.0</td>\n",
              "      <td>87.0</td>\n",
              "      <td>77.0</td>\n",
              "      <td>96.0</td>\n",
              "      <td>87.0</td>\n",
              "      <td>75.0</td>\n",
              "      <td>109.0</td>\n",
              "      <td>88.0</td>\n",
              "      <td>80.0</td>\n",
              "      <td>101.0</td>\n",
              "      <td>91.0</td>\n",
              "      <td>92.0</td>\n",
              "      <td>102.0</td>\n",
              "      <td>0</td>\n",
              "      <td>-1</td>\n",
              "    </tr>\n",
              "  </tbody>\n",
              "</table>\n",
              "</div>"
            ],
            "text/plain": [
              "       0      1      2      3      4  ...     21     22     23  Sheet  Y\n",
              "0  113.0  118.0  118.0  107.0  105.0  ...  103.0  100.0   95.0      0 -1\n",
              "1  118.0  109.0  103.0  109.0   80.0  ...   95.0  102.0  102.0      0  1\n",
              "2  103.0  106.0   98.0   89.0   76.0  ...  102.0  100.0   99.0      0 -1\n",
              "3   98.0  110.0  101.0   90.0   88.0  ...   99.0   96.0   91.0      0  1\n",
              "4  101.0  112.0  119.0   94.0   87.0  ...   91.0   92.0  102.0      0 -1\n",
              "\n",
              "[5 rows x 26 columns]"
            ]
          },
          "metadata": {},
          "execution_count": 147
        }
      ]
    },
    {
      "cell_type": "code",
      "metadata": {
        "id": "9AWoDvA3ZlWW"
      },
      "source": [
        "# os.chdir( '/content/drive/MyDrive/NanoX/')\n",
        "# df.to_csv('NanoX_Fv_all.csv')"
      ],
      "execution_count": 148,
      "outputs": []
    }
  ]
}